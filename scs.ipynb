{
 "cells": [
  {
   "cell_type": "code",
   "execution_count": 13,
   "id": "fc4463a4",
   "metadata": {},
   "outputs": [
    {
     "name": "stdout",
     "output_type": "stream",
     "text": [
      "['string', 23, 22.3]\n"
     ]
    }
   ],
   "source": [
    "nums=[]\n",
    "nums.append(\"string\")\n",
    "nums.append(23)\n",
    "nums.append(22.3)\n",
    "print(nums)"
   ]
  },
  {
   "cell_type": "code",
   "execution_count": 11,
   "id": "04a9b36c",
   "metadata": {},
   "outputs": [
    {
     "name": "stdout",
     "output_type": "stream",
     "text": [
      "{1: 'geeks', 2: 'for', 3: 'geeks'}\n",
      "geeks\n"
     ]
    }
   ],
   "source": [
    "Dict=[]\n",
    "Dict={1:\"geeks\",2:\"for\",3:\"geeks\"}\n",
    "print(Dict)\n",
    "print(Dict[1])"
   ]
  },
  {
   "cell_type": "code",
   "execution_count": 12,
   "id": "d2f0d6dc",
   "metadata": {},
   "outputs": [
    {
     "name": "stdout",
     "output_type": "stream",
     "text": [
      "('geeks', 'for', 'geeks')\n"
     ]
    }
   ],
   "source": [
    "tup=(\"geeks\",\"for\",\"geeks\")\n",
    "print(tup)"
   ]
  },
  {
   "cell_type": "code",
   "execution_count": 40,
   "id": "ec63c0bf",
   "metadata": {},
   "outputs": [
    {
     "name": "stdout",
     "output_type": "stream",
     "text": [
      "[4, 1, 2, 3, 0]\n"
     ]
    }
   ],
   "source": [
    "list=[0,1,2,3,4]\n",
    "def swap():\n",
    "    size=len(list)\n",
    "    temp=list[0]\n",
    "    list[0]=list[size-1]\n",
    "    list[size-1]=temp\n",
    "    return list\n",
    "print(swap())"
   ]
  },
  {
   "cell_type": "code",
   "execution_count": 6,
   "id": "0786182a",
   "metadata": {},
   "outputs": [
    {
     "name": "stdout",
     "output_type": "stream",
     "text": [
      "['lc', 'prem', 'sarvesh', 'addi']\n"
     ]
    }
   ],
   "source": [
    "list=[\"addi\",\"prem\",\"sarvesh\",\"lc\"]\n",
    "def swap():\n",
    "    size=len(list)\n",
    "    temp=list[0]\n",
    "    list[0]=list[size-1]\n",
    "    list[size-1]=temp\n",
    "    return list\n",
    "print(swap())\n",
    "    \n",
    "    "
   ]
  },
  {
   "cell_type": "code",
   "execution_count": 14,
   "id": "faaa83ba",
   "metadata": {},
   "outputs": [
    {
     "name": "stdout",
     "output_type": "stream",
     "text": [
      "[[2, 1, 1, 2], [2, 6, 1, 2], [2, 7, 1, 2], [3, 4, 5, 0]]\n"
     ]
    }
   ],
   "source": [
    "a=[[3, 4,5, 0],\n",
    "    [2 ,6 ,1 ,2],\n",
    "    [2 ,7, 1, 2],\n",
    "    [2 ,1 ,1 ,2]]\n",
    "def swapmat():\n",
    "    temp=a[0]\n",
    "    size=len(a)\n",
    "    a[0]=a[3]\n",
    "    a[3]=temp\n",
    "    return a\n",
    "print(swapmat())"
   ]
  },
  {
   "cell_type": "code",
   "execution_count": null,
   "id": "66f175a4",
   "metadata": {},
   "outputs": [],
   "source": [
    "a=int(input())\n",
    "if a>17:\n",
    "    print(\"the given num is greater than \"+str(a-17)*2)\n",
    "else:\n",
    "    print(\"the given num less than 17 so differnce is\"+ str(17-a))"
   ]
  },
  {
   "cell_type": "code",
   "execution_count": null,
   "id": "958c94e5",
   "metadata": {},
   "outputs": [],
   "source": []
  }
 ],
 "metadata": {
  "kernelspec": {
   "display_name": "Python 3 (ipykernel)",
   "language": "python",
   "name": "python3"
  },
  "language_info": {
   "codemirror_mode": {
    "name": "ipython",
    "version": 3
   },
   "file_extension": ".py",
   "mimetype": "text/x-python",
   "name": "python",
   "nbconvert_exporter": "python",
   "pygments_lexer": "ipython3",
   "version": "3.9.13"
  }
 },
 "nbformat": 4,
 "nbformat_minor": 5
}
